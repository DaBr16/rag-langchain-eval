{
 "cells": [
  {
   "cell_type": "markdown",
   "metadata": {},
   "source": [
    "# Analysis of RAGAs Evaluation Results\n",
    "The results of the RAGAs evaluation varies when evaluating the RAG on the same questions for multiple times. Here I want to analyse the results and calulate the mean and standard deviation. The qoal is that I can justify the different result of the RAGAs. Maybe I will be also able to a give a reason for the different outcomes."
   ]
  },
  {
   "cell_type": "markdown",
   "metadata": {},
   "source": [
    "### Evaluation of RAG with **original chunks** on **18 Questions**:\n",
    "\n",
    "- {'answer_relevancy': 0.5944, 'context_precision': 0.6204, 'faithfulness': 0.8328, 'context_recall': 0.6265}\n",
    "- {'answer_relevancy': 0.5711, 'context_precision': 0.8627, 'faithfulness': 0.8750, 'context_recall': 0.4521}\n",
    "- {'answer_relevancy': 0.5932, 'context_precision': 0.7701, 'faithfulness': 0.8393, 'context_recall': 0.4770}\n",
    "- {'answer_relevancy': 0.6228, 'context_precision': 0.8272, 'faithfulness': 0.7500, 'context_recall': 0.6209}\n",
    "- {'answer_relevancy': 0.4000, 'context_precision': 0.7840, 'faithfulness': 0.8400, 'context_recall': 0.4831}"
   ]
  },
  {
   "cell_type": "markdown",
   "metadata": {},
   "source": [
    "- {'answer_relevancy': 0.4069, 'context_precision': 0.8009, 'faithfulness': 0.9150, 'context_recall': 0.4941}\n",
    "- {'answer_relevancy': 0.4912, 'context_precision': 0.5330, 'faithfulness': 0.8387, 'context_recall': 0.8099}\n",
    "- {'answer_relevancy': 0.4428, 'context_precision': 0.8210, 'faithfulness': 0.8333, 'context_recall': 0.5487}\n",
    "- {'answer_relevancy': 0.6049, 'context_precision': 0.7366, 'faithfulness': 0.8186, 'context_recall': 0.5741}\n",
    "- {'answer_relevancy': 0.5868, 'context_precision': 0.6782, 'faithfulness': 0.8225, 'context_recall': 0.5370}"
   ]
  },
  {
   "cell_type": "code",
   "execution_count": 1,
   "metadata": {},
   "outputs": [],
   "source": [
    "import numpy as np\n",
    "import matplotlib.pyplot as plt\n",
    "import pandas as pd"
   ]
  },
  {
   "cell_type": "code",
   "execution_count": 4,
   "metadata": {},
   "outputs": [
    {
     "name": "stdout",
     "output_type": "stream",
     "text": [
      "Mean relevancy:  0.5314\n",
      "Standart deviation relevancy:  0.0827\n",
      "Mean context precision:  0.7434\n",
      "Standart deviation context precision:  0.0983\n",
      "Mean faithfulness:  0.8365\n",
      "Standart deviation faithfulness:  0.0396\n",
      "Mean context recall:  0.5623\n",
      "Standart deviation context recall:  0.1001\n"
     ]
    }
   ],
   "source": [
    "answer_relevancies_0 = [0.5944, 0.5711, 0.5932, 0.6228, 0.4000, 0.4069, 0.4912, 0.4428, 0.6049, 0.5868]\n",
    "context_precisions_0 = [0.6204, 0.8627, 0.7701, 0.8272, 0.7840, 0.8009, 0.5330, 0.8210, 0.7366, 0.6782]\n",
    "faithfulness_0 = [0.8328, 0.8750, 0.8393, 0.7500, 0.8400, 0.9150, 0.8387, 0.8333, 0.8186, 0.8225]\n",
    "context_recalls_0 = [0.6265, 0.4521, 0.4770, 0.6209, 0.4831, 0.4941, 0.8099, 0.5487, 0.5741, 0.5370]\n",
    "\n",
    "mean_relevancy_0 = round(np.mean(answer_relevancies_0), 4)\n",
    "print('Mean relevancy: ', mean_relevancy_0)\n",
    "std_dev_relevancy_0 = round(np.std(answer_relevancies_0), 4)\n",
    "print('Standart deviation relevancy: ', std_dev_relevancy_0)\n",
    "\n",
    "mean_context_precision_0 = round(np.mean(context_precisions_0), 4)\n",
    "print('Mean context precision: ', mean_context_precision_0)\n",
    "std_dev_context_precision_0 = round(np.std(context_precisions_0), 4)\n",
    "print('Standart deviation context precision: ', std_dev_context_precision_0)\n",
    "\n",
    "mean_faithfulness_0 = round(np.mean(faithfulness_0), 4)\n",
    "print('Mean faithfulness: ', mean_faithfulness_0)\n",
    "std_dev_faithfulness_0= round(np.std(faithfulness_0), 4)\n",
    "print('Standart deviation faithfulness: ', std_dev_faithfulness_0) \n",
    "\n",
    "mean_context_recall_0 = round(np.mean(context_recalls_0), 4)\n",
    "print('Mean context recall: ', mean_context_recall_0)\n",
    "std_dev_context_recall_0 = round(np.std(context_recalls_0), 4)\n",
    "print('Standart deviation context recall: ', std_dev_context_recall_0)"
   ]
  },
  {
   "cell_type": "markdown",
   "metadata": {},
   "source": [
    "**Take aways for evaluation process with RAGAs:**\n",
    "- I need to calculate the standard deviation for each each evaluation run (5 evals)\n",
    "- If the std_dev is lower than this one and the evaluations metrics are better than the rag is better aswell\n",
    "- If the std_dev is higher that this one and the evaluations metrics are better it dont means that the rag is better aswell"
   ]
  },
  {
   "cell_type": "markdown",
   "metadata": {},
   "source": [
    "### Evaluation of RAG with **original chunks** on **9 Questions**:\n",
    "\n",
    "- {'answer_relevancy': 0.6948, 'context_precision': 0.9043, 'faithfulness': 0.9074, 'context_recall': 0.5444}\n",
    "- {'answer_relevancy': 0.6430, 'context_precision': 0.8272, 'faithfulness': 0.8571, 'context_recall': 0.5542}\n",
    "- {'answer_relevancy': 0.6228, 'context_precision': 0.8272, 'faithfulness': 0.7500, 'context_recall': 0.6209}\n",
    "- {'answer_relevancy': 0.5590, 'context_precision': 0.9691, 'faithfulness': 0.8542, 'context_recall': 0.5198}\n",
    "- {'answer_relevancy': 0.6096, 'context_precision': 0.8642, 'faithfulness': 0.8500, 'context_recall': 0.5702}"
   ]
  },
  {
   "cell_type": "code",
   "execution_count": 5,
   "metadata": {},
   "outputs": [
    {
     "name": "stdout",
     "output_type": "stream",
     "text": [
      "Mean relevancy:  0.6258\n",
      "Standart deviation relevancy:  0.0443\n",
      "Coefficient of variation : 7.08 %\n",
      "Mean context precision:  0.8784\n",
      "Standart deviation context precision:  0.0536\n",
      "Coefficient of variation : 6.1 %\n",
      "Mean faithfulness:  0.8437\n",
      "Standart deviation faithfulness:  0.0513\n",
      "Coefficient of variation : 6.08 %\n",
      "Mean context recall:  0.5619\n",
      "Standart deviation context recall:  0.0337\n",
      "Coefficient of variation : 6.0 %\n"
     ]
    }
   ],
   "source": [
    "answer_relevancies = [0.6948, 0.6430, 0.6228, 0.5590, 0.6096]\n",
    "context_precisions = [0.9043, 0.8272, 0.8272, 0.9691, 0.8642]\n",
    "faithfulness = [0.9074, 0.8571, 0.7500, 0.8542, 0.8500]\n",
    "context_recalls = [0.5444, 0.5542, 0.6209, 0.5198, 0.5702]\n",
    "\n",
    "mean_relevancy = round(np.mean(answer_relevancies), 4)\n",
    "print('Mean relevancy: ', mean_relevancy)\n",
    "std_dev_relevancy = round(np.std(answer_relevancies), 4)\n",
    "print('Standart deviation relevancy: ', std_dev_relevancy)\n",
    "\n",
    "mean_context_precision = round(np.mean(context_precisions), 4)\n",
    "print('Mean context precision: ', mean_context_precision)\n",
    "std_dev_context_precision = round(np.std(context_precisions), 4)\n",
    "print('Standart deviation context precision: ', std_dev_context_precision)\n",
    "\n",
    "mean_faithfulness = round(np.mean(faithfulness), 4)\n",
    "print('Mean faithfulness: ', mean_faithfulness)\n",
    "std_dev_faithfulness= round(np.std(faithfulness), 4)\n",
    "print('Standart deviation faithfulness: ', std_dev_faithfulness) \n",
    "\n",
    "mean_context_recall = round(np.mean(context_recalls), 4)\n",
    "print('Mean context recall: ', mean_context_recall)\n",
    "std_dev_context_recall = round(np.std(context_recalls), 4)\n",
    "print('Standart deviation context recall: ', std_dev_context_recall)"
   ]
  },
  {
   "cell_type": "markdown",
   "metadata": {},
   "source": [
    "Here we can see that the evaluation results also depend on how complex the questions are. It seems like that the RAG performes better on the first 9 questions of the fiqa main split. We have lower standard deviation and a bit higher evaluation metric values than in the evaluation with 18 questions."
   ]
  },
  {
   "cell_type": "markdown",
   "metadata": {},
   "source": [
    "### Evaluation of RAG with **original chunks** on **27 Questions**:\n",
    "- {'answer_relevancy': 0.7732, 'context_precision': 0.8632, 'faithfulness': 0.5632, 'context_recall': 0.4915}\n",
    "- {'answer_relevancy': 0.7796, 'context_precision': 0.5950, 'faithfulness': 0.5898, 'context_recall': 0.7019}\n",
    "- {'answer_relevancy': 0.5545, 'context_precision': 0.7372, 'faithfulness': 0.8079, 'context_recall': 0.5006}\n",
    "- {'answer_relevancy': 0.5477, 'context_precision': 0.7618, 'faithfulness': 0.8800, 'context_recall': 0.4420}\n",
    "- {'answer_relevancy': 0.7645, 'context_precision': 0.8076, 'faithfulness': 0.5624, 'context_recall': 0.5190}\n"
   ]
  },
  {
   "cell_type": "code",
   "execution_count": 6,
   "metadata": {},
   "outputs": [
    {
     "name": "stdout",
     "output_type": "stream",
     "text": [
      "Mean relevancy:  0.6839\n",
      "Standart deviation relevancy:  0.1086\n",
      "Coefficient of variation : 15.88 %\n",
      "Mean context precision:  0.753\n",
      "Standart deviation context precision:  0.0899\n",
      "Coefficient of variation : 11.94 %\n",
      "Mean faithfulness:  0.6807\n",
      "Standart deviation faithfulness:  0.1356\n",
      "Coefficient of variation : 19.92 %\n",
      "Mean context recall:  0.531\n",
      "Standart deviation context recall:  0.0892\n",
      "Coefficient of variation : 16.8 %\n"
     ]
    }
   ],
   "source": [
    "answer_relevancies = [0.7732, 0.7796, 0.5545, 0.5477, 0.7645]\n",
    "context_precisions = [0.8632, 0.5950, 0.7372, 0.7618, 0.8076]\n",
    "faithfulness = [0.5632, 0.5898, 0.8079, 0.8800, 0.5624]\n",
    "context_recalls = [0.4915, 0.7019, 0.5006, 0.4420, 0.5190]\n",
    "\n",
    "mean_relevancy = round(np.mean(answer_relevancies), 4)\n",
    "print('Mean relevancy: ', mean_relevancy)\n",
    "std_dev_relevancy = round(np.std(answer_relevancies), 4)\n",
    "print('Standart deviation relevancy: ', std_dev_relevancy)\n",
    "\n",
    "mean_context_precision = round(np.mean(context_precisions), 4)\n",
    "print('Mean context precision: ', mean_context_precision)\n",
    "std_dev_context_precision = round(np.std(context_precisions), 4)\n",
    "print('Standart deviation context precision: ', std_dev_context_precision)\n",
    "\n",
    "mean_faithfulness = round(np.mean(faithfulness), 4)\n",
    "print('Mean faithfulness: ', mean_faithfulness)\n",
    "std_dev_faithfulness= round(np.std(faithfulness), 4)\n",
    "print('Standart deviation faithfulness: ', std_dev_faithfulness) \n",
    "\n",
    "mean_context_recall = round(np.mean(context_recalls), 4)\n",
    "print('Mean context recall: ', mean_context_recall)\n",
    "std_dev_context_recall = round(np.std(context_recalls), 4)\n",
    "print('Standart deviation context recall: ', std_dev_context_recall)"
   ]
  },
  {
   "cell_type": "markdown",
   "metadata": {},
   "source": [
    "## Evaluation with lower temperature\n",
    "The idea is to lower the temperature, so the LLM is not trying to hallucinate the answer for a question."
   ]
  },
  {
   "cell_type": "markdown",
   "metadata": {},
   "source": [
    "### Evaluation with 18 Question and Temperature=0.2\n",
    "- {'answer_relevancy': 0.5782, 'context_precision': 0.6466, 'faithfulness': 0.8595, 'context_recall': 0.5873}\n",
    "- {'answer_relevancy': 0.5193, 'context_precision': 0.8688, 'faithfulness': 0.8490, 'context_recall': 0.4080}\n",
    "- {'answer_relevancy': 0.5662, 'context_precision': 0.7641, 'faithfulness': 0.8765, 'context_recall': 0.5448}\n",
    "- {'answer_relevancy': 0.7306, 'context_precision': 0.6447, 'faithfulness': 0.8165, 'context_recall': 0.6284}"
   ]
  },
  {
   "cell_type": "markdown",
   "metadata": {},
   "source": [
    "### Evaluation with 18 Questions and Temperature=0\n",
    "- {'answer_relevancy': 0.5241, 'context_precision': 0.6037, 'faithfulness': 0.8534, 'context_recall': 0.5700}\n",
    "- {'answer_relevancy': 0.5118, 'context_precision': 0.7978, 'faithfulness': 0.8559, 'context_recall': 0.5071}\n",
    "- {'answer_relevancy': 0.5837, 'context_precision': 0.8688, 'faithfulness': 0.8964, 'context_recall': 0.4336}\n",
    "- {'answer_relevancy': 0.5365, 'context_precision': 0.6782, 'faithfulness': 0.8693, 'context_recall': 0.5683}\n",
    "- {'answer_relevancy': 0.5572, 'context_precision': 0.8765, 'faithfulness': 0.8971, 'context_recall': 0.4938}"
   ]
  },
  {
   "cell_type": "code",
   "execution_count": 4,
   "metadata": {},
   "outputs": [
    {
     "name": "stdout",
     "output_type": "stream",
     "text": [
      "Mean relevancy:  0.5427\n",
      "Standart deviation relevancy:  0.0254\n",
      "Mean context precision:  0.765\n",
      "Standart deviation context precision:  0.1075\n",
      "Mean faithfulness:  0.8744\n",
      "Standart deviation faithfulness:  0.019\n",
      "Mean context recall:  0.5146\n",
      "Standart deviation context recall:  0.051\n"
     ]
    }
   ],
   "source": [
    "answer_relevancies_1 = [0.5241, 0.5118, 0.5837, 0.5365, 0.5572]\n",
    "context_precisions_1 = [0.6037, 0.7978, 0.8688, 0.6782, 0.8765]\n",
    "faithfulness_1 = [0.8534, 0.8559, 0.8964, 0.8693, 0.8971]\n",
    "context_recalls_1 = [0.5700, 0.5071, 0.4336, 0.5683, 0.4938]\n",
    "\n",
    "mean_relevancy_1 = round(np.mean(answer_relevancies_1), 4)\n",
    "print('Mean relevancy: ', mean_relevancy_1)\n",
    "std_dev_relevancy_1 = round(np.std(answer_relevancies_1), 4)\n",
    "print('Standart deviation relevancy: ', std_dev_relevancy_1)\n",
    "\n",
    "mean_context_precision_1 = round(np.mean(context_precisions_1), 4)\n",
    "print('Mean context precision: ', mean_context_precision_1)\n",
    "std_dev_context_precision_1 = round(np.std(context_precisions_1), 4)\n",
    "print('Standart deviation context precision: ', std_dev_context_precision_1)\n",
    "\n",
    "mean_faithfulness_1 = round(np.mean(faithfulness_1), 4)\n",
    "print('Mean faithfulness: ', mean_faithfulness_1)\n",
    "std_dev_faithfulness_1= round(np.std(faithfulness_1), 4)\n",
    "print('Standart deviation faithfulness: ', std_dev_faithfulness_1) \n",
    "\n",
    "mean_context_recall_1 = round(np.mean(context_recalls_1), 4)\n",
    "print('Mean context recall: ', mean_context_recall_1)\n",
    "std_dev_context_recall_1 = round(np.std(context_recalls_1), 4)\n",
    "print('Standart deviation context recall: ', std_dev_context_recall_1)"
   ]
  },
  {
   "cell_type": "code",
   "execution_count": 10,
   "metadata": {},
   "outputs": [
    {
     "data": {
      "image/png": "[encoded data removed]",
      "text/plain": [
       "<Figure size 640x480 with 1 Axes>"
      ]
     },
     "metadata": {},
     "output_type": "display_data"
    }
   ],
   "source": [
    "x = ['answer_relavance', 'context_precision', 'faithfulness', 'context_recall']\n",
    "\n",
    "y_0 = [0.0861, 0.111, 0.0463, 0.119] \n",
    "y_1 = [0.0254, 0.1075, 0.019, 0.051]\n",
    "y_2 = [0.0827, 0.0983, 0.0396, 0.1001]\n",
    "\n",
    "x_axis = np.arange(len(x))\n",
    "\n",
    "bar_width = 0.25\n",
    "plt.bar(x_axis - bar_width, y_0, width=bar_width, label='Temperature = 0.7')\n",
    "plt.bar(x_axis, y_1, width=bar_width, label='Temperature = 0')\n",
    "plt.bar(x_axis + bar_width, y_2, width=bar_width, label='10 runs')\n",
    "\n",
    "plt.xticks(x_axis, x)\n",
    "plt.xlabel('Evaluations')\n",
    "plt.ylabel('Standard deviation')\n",
    "plt.title('Comparision of standard deviations')\n",
    "plt.legend()\n",
    "plt.show()"
   ]
  },
  {
   "cell_type": "markdown",
   "metadata": {},
   "source": [
    "The standard deviations are a bit than the ones with LLM Temperature = 0.7 (default)\n",
    "\n",
    "Open question:\n",
    "- Does it make sense to reduce also the temperature of the LLM which is evaluating?\n"
   ]
  },
  {
   "cell_type": "markdown",
   "metadata": {},
   "source": [
    "## Comparision of Evaldatasets\n",
    "Now I will compare some eval datasets to if they are similar or not. So I can see if our llm or retriver is creating new values each run or the eval-llm produces different answers. Threfore I created for evaluation dataset with llm temperature=0 and 18 Questions."
   ]
  },
  {
   "cell_type": "code",
   "execution_count": 12,
   "metadata": {},
   "outputs": [
    {
     "name": "stdout",
     "output_type": "stream",
     "text": [
      "Comparison results for column 'question':\n",
      "  Dataset 1 vs Dataset 2: True\n",
      "  Dataset 1 vs Dataset 3: True\n",
      "  Dataset 1 vs Dataset 4: True\n",
      "  Dataset 1 vs Dataset 5: True\n",
      "  Dataset 1 vs Dataset 6: True\n",
      "  Dataset 1 vs Dataset 7: True\n",
      "  Dataset 2 vs Dataset 3: True\n",
      "  Dataset 2 vs Dataset 4: True\n",
      "  Dataset 2 vs Dataset 5: True\n",
      "  Dataset 2 vs Dataset 6: True\n",
      "  Dataset 2 vs Dataset 7: True\n",
      "  Dataset 3 vs Dataset 4: True\n",
      "  Dataset 3 vs Dataset 5: True\n",
      "  Dataset 3 vs Dataset 6: True\n",
      "  Dataset 3 vs Dataset 7: True\n",
      "  Dataset 4 vs Dataset 5: True\n",
      "  Dataset 4 vs Dataset 6: True\n",
      "  Dataset 4 vs Dataset 7: True\n",
      "  Dataset 5 vs Dataset 6: True\n",
      "  Dataset 5 vs Dataset 7: True\n",
      "  Dataset 6 vs Dataset 7: True\n",
      "Comparison results for column 'ground_truths':\n",
      "  Dataset 1 vs Dataset 2: True\n",
      "  Dataset 1 vs Dataset 3: True\n",
      "  Dataset 1 vs Dataset 4: True\n",
      "  Dataset 1 vs Dataset 5: True\n",
      "  Dataset 1 vs Dataset 6: True\n",
      "  Dataset 1 vs Dataset 7: True\n",
      "  Dataset 2 vs Dataset 3: True\n",
      "  Dataset 2 vs Dataset 4: True\n",
      "  Dataset 2 vs Dataset 5: True\n",
      "  Dataset 2 vs Dataset 6: True\n",
      "  Dataset 2 vs Dataset 7: True\n",
      "  Dataset 3 vs Dataset 4: True\n",
      "  Dataset 3 vs Dataset 5: True\n",
      "  Dataset 3 vs Dataset 6: True\n",
      "  Dataset 3 vs Dataset 7: True\n",
      "  Dataset 4 vs Dataset 5: True\n",
      "  Dataset 4 vs Dataset 6: True\n",
      "  Dataset 4 vs Dataset 7: True\n",
      "  Dataset 5 vs Dataset 6: True\n",
      "  Dataset 5 vs Dataset 7: True\n",
      "  Dataset 6 vs Dataset 7: True\n",
      "Comparison results for column 'answer':\n",
      "  Dataset 1 vs Dataset 2: False\n",
      "  Dataset 1 vs Dataset 3: False\n",
      "  Dataset 1 vs Dataset 4: False\n",
      "  Dataset 1 vs Dataset 5: False\n",
      "  Dataset 1 vs Dataset 6: False\n",
      "  Dataset 1 vs Dataset 7: False\n",
      "  Dataset 2 vs Dataset 3: False\n",
      "  Dataset 2 vs Dataset 4: False\n",
      "  Dataset 2 vs Dataset 5: False\n",
      "  Dataset 2 vs Dataset 6: False\n",
      "  Dataset 2 vs Dataset 7: False\n",
      "  Dataset 3 vs Dataset 4: False\n",
      "  Dataset 3 vs Dataset 5: False\n",
      "  Dataset 3 vs Dataset 6: False\n",
      "  Dataset 3 vs Dataset 7: False\n",
      "  Dataset 4 vs Dataset 5: False\n",
      "  Dataset 4 vs Dataset 6: False\n",
      "  Dataset 4 vs Dataset 7: False\n",
      "  Dataset 5 vs Dataset 6: False\n",
      "  Dataset 5 vs Dataset 7: False\n",
      "  Dataset 6 vs Dataset 7: False\n",
      "Comparison results for column 'contexts':\n",
      "  Dataset 1 vs Dataset 2: True\n",
      "  Dataset 1 vs Dataset 3: True\n",
      "  Dataset 1 vs Dataset 4: True\n",
      "  Dataset 1 vs Dataset 5: True\n",
      "  Dataset 1 vs Dataset 6: True\n",
      "  Dataset 1 vs Dataset 7: True\n",
      "  Dataset 2 vs Dataset 3: True\n",
      "  Dataset 2 vs Dataset 4: True\n",
      "  Dataset 2 vs Dataset 5: True\n",
      "  Dataset 2 vs Dataset 6: True\n",
      "  Dataset 2 vs Dataset 7: True\n",
      "  Dataset 3 vs Dataset 4: True\n",
      "  Dataset 3 vs Dataset 5: True\n",
      "  Dataset 3 vs Dataset 6: True\n",
      "  Dataset 3 vs Dataset 7: True\n",
      "  Dataset 4 vs Dataset 5: True\n",
      "  Dataset 4 vs Dataset 6: True\n",
      "  Dataset 4 vs Dataset 7: True\n",
      "  Dataset 5 vs Dataset 6: True\n",
      "  Dataset 5 vs Dataset 7: True\n",
      "  Dataset 6 vs Dataset 7: True\n"
     ]
    }
   ],
   "source": [
    "# Load your datasets\n",
    "evalset_1 = pd.read_parquet('../eval_datasets/08:59 03.05.2024.parquet')\n",
    "evalset_2 = pd.read_parquet('../eval_datasets/09:00 03.05.2024.parquet')\n",
    "evalset_3 = pd.read_parquet('../eval_datasets/09:01 03.05.2024.parquet')\n",
    "evalset_4 = pd.read_parquet('../eval_datasets/09:14 03.05.2024.parquet')\n",
    "evalset_5 = pd.read_parquet('../eval_datasets/13:15 03.05.2024.parquet')\n",
    "evalset_6 = pd.read_parquet('../eval_datasets/13:21 03.05.2024.parquet')\n",
    "evalset_7 = pd.read_parquet('../eval_datasets/13:27 03.05.2024.parquet')\n",
    "\n",
    "evalset_test = pd.read_parquet('../eval_datasets/15:15 03.05.2024.parquet')\n",
    "\n",
    "# List of all datasets for easier access in loop\n",
    "datasets = [evalset_1, evalset_2, evalset_3, evalset_4, evalset_5, evalset_6, evalset_7]\n",
    "\n",
    "# Assume all datasets have the same columns\n",
    "columns = evalset_1.columns\n",
    "\n",
    "# Dictionary to hold lists of comparison results for each column\n",
    "comparison_results = {column: [] for column in columns}\n",
    "\n",
    "# Nested loop to compare columns across all datasets\n",
    "for column in columns:\n",
    "    # Compare each dataset with every other dataset\n",
    "    for i in range(len(datasets)):\n",
    "        for j in range(i + 1, len(datasets)):\n",
    "            # Store the result of the comparison in the list for the current column\n",
    "            result = datasets[i][column].equals(datasets[j][column])\n",
    "            comparison_results[column].append((i, j, result))\n",
    "\n",
    "# Print the results\n",
    "for column, results in comparison_results.items():\n",
    "    print(f\"Comparison results for column '{column}':\")\n",
    "    for result in results:\n",
    "        print(f\"  Dataset {result[0]+1} vs Dataset {result[1]+1}: {result[2]}\")"
   ]
  },
  {
   "cell_type": "markdown",
   "metadata": {},
   "source": [
    "As we can see the only **differece is in the answer column** (generated answer of rag pipeline llm).\n",
    "What does this mean for the deviation in the evaluation metrics:\n",
    "\n",
    "**Faithfulness and answer_relevancy:**\n",
    "- the metrics answer_relvance and faithfulness are computed based on the generated answer, so the deviation there makes sense then. Anyways, the standard deviation isnt that high\n",
    "\n",
    "**Context Recall:**\n",
    "- for the context recall the eval_llm is breaking down the ground_truth into statements and afterwards the eval_llm is asked if those statements are attribute to the retrieved context\n",
    "- this metrics is not varying due to our dataset, because the retrived context is always the same\n",
    "- that means that the answer of the eval_llm changes either on creating statements or checking if those can be attributed to the context\n",
    "- [Code for context_recall metric](https://github.com/explodinggradients/ragas/blob/main/src/ragas/metrics/_context_recall.py)\n",
    "\n",
    "**Context Precision:**\n",
    "- the eval_llm is asked for each retrieved context if this chunk can be attributed to the ground_truth. The specialty here is that the the higher ranked context are weighted more than the lower ranked\n",
    "- so this metric is also not varying due to our dataset\n",
    "- retriver collects chunks based on the embedding value of the question but llm_eval is looking for similarity of the ground_truth and the retrieved context\n",
    "- so one outcome is that the retrieved chunk is more similiar to the question than to the ground_truth. So the eval-llm says that there is a lot unneceary information inside the chunk but for the retriever these are the best chunks. The retriever uses maximum marginal relevance to decide which are important chunks\n",
    "- [Code for context_precision metric](https://github.com/explodinggradients/ragas/blob/main/src/ragas/metrics/_context_precision.py)\n",
    "\n",
    "Reasons for deviation:\n",
    "- Chunks are too big\n",
    "- not splitted semantically correct\n",
    "\n",
    "Possible solution for better values:\n",
    "- another retrieval strategy\n"
   ]
  },
  {
   "cell_type": "markdown",
   "metadata": {},
   "source": [
    "## Final Conclusion\n",
    "For evaluation I will choose following metrics:\n",
    "- **answer_relevancy**, to see if the answer has something to do with the question\n",
    "- **answer_correctness**, to see the accuracy of the generated answer to the ground_truth\n",
    "- **context_recall**, to see if we even collect the correct context\n",
    "- **context_relevancy**, to see how good the quality of the context is and if a higher context relevancy impacts the generation of the answer"
   ]
  },
  {
   "cell_type": "markdown",
   "metadata": {},
   "source": [
    "- {'answer_relevancy': 0.5148, 'answer_correctness': 0.3140, 'context_recall': 0.4492, 'context_relevancy': 0.1100}\n",
    "- {'answer_relevancy': 0.4619, 'answer_correctness': 0.3405, 'context_recall': 0.5123, 'context_relevancy': 0.1082}\n",
    "- {'answer_relevancy': 0.5517, 'answer_correctness': 0.3537, 'context_recall': 0.4790, 'context_relevancy': 0.1185}\n",
    "- {'answer_relevancy': 0.5627, 'answer_correctness': 0.3654, 'context_recall': 0.4836, 'context_relevancy': 0.1273}\n"
   ]
  }
 ],
 "metadata": {
  "kernelspec": {
   "display_name": "venv",
   "language": "python",
   "name": "python3"
  },
  "language_info": {
   "codemirror_mode": {
    "name": "ipython",
    "version": 3
   },
   "file_extension": ".py",
   "mimetype": "text/x-python",
   "name": "python",
   "nbconvert_exporter": "python",
   "pygments_lexer": "ipython3",
   "version": "3.10.12"
  }
 },
 "nbformat": 4,
 "nbformat_minor": 2
}
